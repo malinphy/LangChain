{
  "nbformat": 4,
  "nbformat_minor": 0,
  "metadata": {
    "colab": {
      "provenance": [],
      "include_colab_link": true
    },
    "kernelspec": {
      "display_name": "Python 3",
      "name": "python3"
    }
  },
  "cells": [
    {
      "cell_type": "markdown",
      "metadata": {
        "id": "view-in-github",
        "colab_type": "text"
      },
      "source": [
        "<a href=\"https://colab.research.google.com/github/malinphy/LangChain/blob/main/arxiv.ipynb\" target=\"_parent\"><img src=\"https://colab.research.google.com/assets/colab-badge.svg\" alt=\"Open In Colab\"/></a>"
      ]
    },
    {
      "cell_type": "code",
      "metadata": {
        "id": "Lj6cbR0JBTCP"
      },
      "source": [
        "!pip install langchain -q\n",
        "!pip install arxiv -q\n",
        "!pip install pymupdf -q\n",
        "!pip install transformers -q\n",
        "!pip install sentence-transformers -q\n",
        "!pip install faiss-cpu -q"
      ],
      "execution_count": 1,
      "outputs": []
    },
    {
      "cell_type": "code",
      "source": [
        "from langchain.document_loaders import ArxivLoader\n",
        "from langchain.retrievers import ArxivRetriever\n",
        "import pandas as pd\n",
        "from langchain.vectorstores import FAISS\n",
        "from langchain.embeddings import HuggingFaceEmbeddings\n"
      ],
      "metadata": {
        "id": "-r0oen-XPR9A"
      },
      "execution_count": 2,
      "outputs": []
    },
    {
      "cell_type": "code",
      "source": [
        "embeddings = HuggingFaceEmbeddings()"
      ],
      "metadata": {
        "id": "k6UmE4Ksdu8R"
      },
      "execution_count": 3,
      "outputs": []
    },
    {
      "cell_type": "code",
      "source": [
        "docs = ArxivLoader(query=\"1605.08386\", load_max_docs=2).load()\n",
        "len(docs)"
      ],
      "metadata": {
        "id": "9TwNUhAbPfLG",
        "outputId": "1c6d6d03-038d-44fe-b8d9-f2db266a91ae",
        "colab": {
          "base_uri": "https://localhost:8080/"
        }
      },
      "execution_count": 4,
      "outputs": [
        {
          "output_type": "execute_result",
          "data": {
            "text/plain": [
              "1"
            ]
          },
          "metadata": {},
          "execution_count": 4
        }
      ]
    },
    {
      "cell_type": "code",
      "source": [
        "docs[0].metadata"
      ],
      "metadata": {
        "id": "WlEmKFKZPfka",
        "outputId": "5e3604fb-7f6f-4e80-bdae-004e22319b20",
        "colab": {
          "base_uri": "https://localhost:8080/"
        }
      },
      "execution_count": 5,
      "outputs": [
        {
          "output_type": "execute_result",
          "data": {
            "text/plain": [
              "{'Published': '2016-05-26',\n",
              " 'Title': 'Heat-bath random walks with Markov bases',\n",
              " 'Authors': 'Caprice Stanley, Tobias Windisch',\n",
              " 'Summary': 'Graphs on lattice points are studied whose edges come from a finite set of\\nallowed moves of arbitrary length. We show that the diameter of these graphs on\\nfibers of a fixed integer matrix can be bounded from above by a constant. We\\nthen study the mixing behaviour of heat-bath random walks on these graphs. We\\nalso state explicit conditions on the set of moves so that the heat-bath random\\nwalk, a generalization of the Glauber dynamics, is an expander in fixed\\ndimension.'}"
            ]
          },
          "metadata": {},
          "execution_count": 5
        }
      ]
    },
    {
      "cell_type": "code",
      "source": [
        "retriever = ArxivRetriever(load_max_docs=5)\n",
        "docs = retriever.get_relevant_documents(query=\"1605\")"
      ],
      "metadata": {
        "id": "STYQYaxHPg--"
      },
      "execution_count": 6,
      "outputs": []
    },
    {
      "cell_type": "code",
      "source": [
        "arxiv_df = pd.DataFrame(columns = ['title', 'abst'] )\n",
        "for i in range(len(docs)):\n",
        "    print(docs[i].metadata['Title'])\n",
        "    print(docs[i].page_content.replace('\\n',''))\n",
        "    x = [docs[i].metadata['Title'],docs[i].page_content.replace('\\n','')]\n",
        "    arxiv_df.loc[i] = x"
      ],
      "metadata": {
        "id": "P8l-yV7iQN2g",
        "outputId": "293c4366-c42d-4f77-9429-097c87e50377",
        "colab": {
          "base_uri": "https://localhost:8080/"
        }
      },
      "execution_count": 7,
      "outputs": [
        {
          "output_type": "stream",
          "name": "stdout",
          "text": [
            "On the number of cyclic subgroup in finite groups\n",
            "arXiv:1605.00193v1  [math.GR]  1 May 2016On the number of cyclic subgroups in ﬁnite groupsWei ZhouSchool of Mathematics and Statistics,Southwest University, Chongqing 400715, P. R. CHINAzh great@swu.edu.cnAbstractWe study the number of cylic subgroups in ﬁnite groups and get that G has |G|−3cyclic subgroups if and only if G ∼= D10 or Q8.1IntroductionLet G be a ﬁnite group and C(G) be the poset of cyclic subgroups of G. Sometimes C(G)can decide the structure of G. For example, G is an elementary abelian 2-group if andonly if |C(G)| = |G|. Tˇarnˇauceanu [3, 4] classiﬁed the groups G such that |G|−|C(G)| = 1or 2.In this note, we shall continue this study by describing the ﬁnite groups G such that|C(G)| = |G| − 3.We prove that there are just two such groups: D10 and Q8.For any ﬁnite group G, denote by πe(G) the set of all element orders of G, and donote byπ(G) the set of all prime divisors of |G|. For convenience, let πc(G) = πe(G)−π(G)−{1}.For any i ∈ πe(G), denote by Ci(G) the set of all cylic subgroups of order i in G, anddenote ci(G) = |Ci(G)| (ci for short).0Support by National Natural Science Foundation of China (Grant No. 11471266).AMS Subject Classiﬁcation: 20D15, 20D25Key words and phrases: ﬁnite groups, cyclic subgroups, 2-groups122The main resultLemma 2.1 Let |G| = pa11 · · · parrwith p1 < · · · < pr. If r ≥ 3, then |G| − c(G) > pr.Proof: For any ﬁnite group G, we know that|G| =�k∈πe(G)ck(φ(k)),|C(G)| =�k∈πe(G)ck,where φ is the Eucler function. Hence|G| − |C(G)| =�k∈πe(G)ck(φ(k) − 1).(2.1)Let G be a group such that |G| − |C(G)| ≤ pr. By (2.1), we see that�k∈πe(G)ck(φ(k) − 1) ≤ pr.By Cauch theorem, cpi ≥ 1 for all i ≤ r. Hence we get thatcp1(p1 − 2) + cp2(p2 − 2) + · · · + cpr(pr − 2) +�s∈πc(G)cs(φ(s) − 1) ≤ pr.Since r ≥ 3, we get that pr ≥ 5. Thus cpr = 1 andcp1(p1 − 2) + cp2(p2 − 2) + · · · + cpr−1(pr−1 − 2) +�s∈πc(G)cs(φ(s) − 1) ≤ 2.So we get r = 3, p2 = 3 and p1 = 2. It follows thatc3 +�s∈πc(G)cs(φ(s) − 1) ≤ 2.If c3 = 2, then πc(G) = ∅. Let X1, X2 be the two cylic subgroups of order 3. Consid-ering the action of G on {X1, X2}, we see that X1 is normalized by a Sylow pr-subgroup,which implies 3pr ∈ φc(G), a contradiction.Hence c3 = 1.Similarly, we get that3pr ∈ πc(G).But c3pr(φ(3pr) − 1) ≥ 2(pr − 1) − 1 ≥ 2(5 − 1) − 1 = 7, a contradic-tion.✷3Lemma 2.2 Let |G| = paqb, where p, q are primes such that p < q. Then |G| − c(G) > qif G ̸∼= D2q, C6, D12, C6 or S3, and |D2q − |C(D2q)| = q − 2, |C6| − |C(C6)| = 2,|D12| − |C(D12)| = 2. |C6| − |C(C6)| = 2 and |S3| − |C(S3)| = 1.Proof: Let G be the group such that |G| − c(G) ≤ q. By (2.1),cp(p − 2) + cq(q − 2) +�s∈πc(G)cs(φ(s) − 1) ≤ q.(2.2)i) q ≥ 5. Then cq = 1 andcp(p − 2) +�s∈πc(G)cs(φ(s) − 1) ≤ 2.If p ̸= 2, then πc(G) = ∅, and cp(p − 2) ≤ 2. It follows that p = 3 and c3 ≤ 2. Butwe can ﬁnd an element of order 3q, a contradiction. So we get that p = 2. We see thatπe(G) = {1, 2, q} or {1, 2, 22, q}. Thus G has only one Sylow q-subgroup Q isomorphic toCq.If πe(G) = {1, 2, 4, q}, then c4 ≤ 2. Thus Q normalizes a cyclic subgroup of order4. This implies that 4q ∈ πc(G), a contradiction. Hence πe(G) = {1, 2, q}. If a ≥ 2, byconsidering the conjugate action of a Sylow 2-group on Q, we can ﬁnd an elmement oforder 2q, a contradiction. Hence |G| = 2q, and G = ⟨u, v|uq = 1, v2 = 1, uv = u−1⟩ ∼= D2q.In this case, |G| − |C(G)| = q − 2.ii) q = 3 and p = 2. Now (2.2) becomes thatc3 +�s∈πc(G)cs(φ(s) − 1) ≤ 3.It follows that c3 ≤ 3 and πe(G) ⊆ {1, 2, 3, 4, 6}.If πe(G) = {1, 2, 3, 4, 6}, then c3 = c4 = c6 = 1. And we get 12 ∈ πe(G), a contradic-tion. If πe(G) = {1, 2, 3, 4}, then c4 ≤ 2. We can get that 12 ∈ πe(G) if c4 = 1. Hencec4 = 2. Therefore, a Sylow 3-group will normalizes a cyclic subgroup of order 4, and weget that 12 ∈ πe(G), a contradiction.If πe(G) = {1, 2, 3, 6}, then c3 + c6 ≤ 3. Then c3 = 1 or c6 = 1. Thus we can get anormal cyclic subgroup X = ⟨x⟩ of order 3. Thus |G : CG\n",
            "On the Roots of Characteristic Equations of Delay Differential Systems\n",
            "arXiv:1605.00488v1  [math.DS]  2 May 2016On the Roots of Characteristic Equations of DelayDiﬀerential SystemsJia-Yuan DaiAbstractWe prove that characteristic equations of certain types of delay diﬀerentialsystems, under some mild conditions on their coeﬃcients, can possess inﬁnitelymany complex roots.A. PrelimilaryOur motivation comes from the linear (single, complex, constant) time-delay com-plex diﬀerential system:˙x(t) = Ax(t) + Bx(t − τ),x(t) ∈ Cn(1)where A and B are n-by-n matrices over C and τ ∈ C \\ {0} is a complex time-delay. The stablity of the zero solution is determined to the real parts of roots ofthe characteristic equation:f(λ) := det�λid − A − e−τλB�= 0,(2)after the exponential ansatz x(t) = eλtx0 is applied. We are interested in the questionwhether there exist inﬁnitely many complex roots of f.Our main observations are the following:(i) f is an entire function;(ii) for any ǫ > 0, the growth rate of f is bounded by e|λ|1+ǫ for all λ ∈ C with |λ|suﬃciently large.We note that (ii) follows directly by using triangle inequality.Deﬁnition. Let f be an entire function, the order of f, denoted by ord(f), is theinﬁmum of α > 0 such that there exists R > 0 such that |f(λ)| ≤ e|λ|α holds for allλ ∈ C with |λ| ≥ R.Hence the observation (ii) indicates that ord(f) ≤ 1. Now ﬁniteness of ord(f)reminds us a dichotomy.Lemma 1 (Theorem 16.13 in [BaNe10]). Let f be an entire function and of ﬁniteorder, then(i) either f(λ) = 0 possesses inﬁnitely many roots in C,1(ii) or there exist complex polynomial g(λ) and h(λ) such that h(0) = 0 andf(λ) = g(λ)eh(λ)holds for all λ ∈ C.Furthermore, in the case (ii), we have deg(h) = ord(f).Thus, our strategy is to give a indirect proof: according to Lemma 1, if f(λ) = 0possesses at most ﬁnitely many roots in C, then ord(f) ≤ 1 impliesf(λ) = g(λ)ecλholds for all λ ∈ C where g(λ) is a complex polynomial and c ∈ C. Then the maintask is to seek conditions on the coeﬃcients A and B to reach a contradiction.B. Single Complex Constant DelayIn the following Proposition we apply our strategy carefully.Proposition 1. Suppose tr(B) ̸= 0, then for each τ ∈ C \\ {0}, the equationf(λ) := det�λid − A − e−τλB�= 0(3)possesses inﬁnitely many roots in C.Proof. Setting λ �→ τλ, without loss of generality we consider τ = 1. The equation(3) can be expressed asf(λ) := λn + a1(λ)e−λ + ... + an(λ)e−nλ,(4)wherea1(λ) = −(tr(B))λn−1 + lower order termsis a nonzero polynomial since we assume tr(B) ̸= 0.Obviously all other aj(λ)for j ∈ {2, ..., n} are (maybe identically zero) complex polynomials. Since a1(λ) isnonzero, there exist k ∈ N with 1 ≤ k ≤ n such that ak(λ) is the last (with respectto the order as real numbers in the exponential exponents) nonzero polynomial, i.e.f(λ) = λn + a1(λ)e−λ + ... + ak(λ)e−kλ.(5)Obviously f is an entire function. We easily see that ord(f) ≤ 1, because for eachǫ > 0, using triangle inequality, the estimates|f(λ)| ≤ (k + 1) maxj=1,...,k{1, |aj(λ)|}ek|λ| ≤ e|λ|1+ǫ(6)hold as |λ| is suﬃciently large.2Contradiction Part:Suppose the contrary that f(λ) = 0 possesses at mostﬁnitely many roots in C. Since f is entire and ord(f) ≤ 1, by Lemma 1,f(λ) = g(λ)ecλholds for all λ ∈ C where g(λ) is a complex polynomial and c ∈ C. We claim thatRe(c) = −k,Im(c) = 0.(7)Let zlλl (0 ≤ l ≤ n) be the leading term of ak(λ). Multiplying (5) by ekλ/λlyieldsg(λ)λl eiIm(c)λe(Re(c)+k)λ = λnekλ + a1(λ)e(k−1)λ + ...ak−1(λ)eλλl+ zl + ˜ak(λ)λl(8)where deg(˜ak) < l.Taking λ ∈ R and λ → −∞, since g, all aj, and ˜ak arepolynomials, the right-hand side of (8) converges to zl, while the left-hand side of(8) diverges to inﬁnity (resp. to zero) if Re(c) + k < 0 (resp. Re(c) + k > 0). ThusRe(c) + k = 0. We now haveg(λ)λl eiIm(c)Re(c)e−Im(c)Im(λ) = λnekλ + a1(λ)e(k−1)λ + ...ak−1(λ)eλλl+ zl + ˜ak(λ)λl. (9)Again we play the same trick by taking Re(λ) → −∞ and Im(λ) → ∞ (or −∞, itdoes not matter), we see Im(c) = 0. As a result, (5) \n",
            "Fermat's Last Theorem: Algebra and Number Theory\n",
            "arXiv:1605.00501v2  [math.NT]  3 Jul 2016FERMAT’S LAST THEOREM: ALGEBRA AND NUMBER THEORYFELIX SIDOKHINEAbstract. In our work we give the examples using Fermat’s Last Theorem for solving someproblems from algebra and number theory.1. IntroductionThe proof of Fermat’s last theorem is viewed as one of the crown accomplishments in mathematics.However, after the orchestra faded the community was left with questions that most of us try toavoid - how we can apply Fermat’s theorem to obtain new proofs to some of the known theoremsin algebra, number theory and geometry as well as derive some new results. Such a work carriesvalue, even though one could argue that it is educational rather than scientiﬁc, as we known that itis possible to prove theorems by using “hard” ways and “easy” ways. But if Fermat’s Last Theoremis true, then why should ignore its possible applications to problems of algebra, number theory andgeometry?2. Fermat’s Theorem & AlgebraOne of the possible generalizations of Fermat’s last theorem is the Euler-Ekel hypothesis. In thissection we will discuss the connection between these two objects by looking at them through theprism of polynomials and splitting ﬁelds. In this section we are working with integral polynomialsover the ﬁeld of rational numbers Q.Let us ﬁrst take a look at a very simple, yet elegant theorem:Theorem 1. Let p(x) = x3 + bx + an where a, b (a > 0, b ̸= 0) are co-prime.If Q is a splitting ﬁeld for p(x), then there exist p, q, r ∈ Z+ such that a = pqr and (p, q, r) is asolution of the equation Xn + Y n = Zn where X, Y, Z are pairwise co-prime.Conversely, if there exist such positive integers p, q, r which are a solution of Xn + Y n = Zn, whereX, Y, Z are pairwise co-prime, then there exists a polynomial p(x) = x3 + bx + an, where a = pqr,b ̸= 0, gcd(a, b) = 1 such that Q is its splitting ﬁeld.Proof. Let the conditions of theorem 1 be satisﬁed and a polynomial p(x) is a product of the linearfactors over Q then p(x) = (x−α)(x−β)(x+γ), where an = αβγ and α, β, γ are pairwise relativelyprime positive integers. Hence α = pn, β = qn, γ = rn and pn + qn = rn.Let positive integers p, q, r be a solution of the equation Xn +Y n = Zn, where X, Y, Z are co-primein pairs then we can construct the polynomial p(x) = (x − pn)(x − qn)(x + rn).□12FELIX SIDOKHINEAn interesting corollary which follows from this theorem is:Corollary 1. Any cubic polynomial of the form p(x) = x3 + bx + an, where a, b (ab ̸= 0) areco-prime and n ≥ 3 over the ﬁeld Q is either irreducible or a product of two irreducible polynomials.We shall omit the proof for simplicity’s sake as it is a direct application of theorem 1 and Fermat’slast theorem.Now let us consider a more general case where we look at the polynomial of arbitrary degree n:p(x) = xn + an−2xn−2 + ... + a1x ± a0 where a1a0 ̸= 0, gcd(a1, a0) = 1 and a0 = ck for any c ∈ Z+ .Let Q be a splitting ﬁeld for p(x) and α1, α2, ..., αh ∈ Z+, −β1, −β2, ..., −βl ∈ Z− are the roots ofp(x) and n = h + l. Then, ck = α1...αhβ1...βl. Moreover, since gcd(a0, a1) = 1, we can claim thatα1, α2, ..., αh, β1, β2, ...βl are all pairwise co-prime and that α1 = xk1, α2 = xk2, ..., αh = xkh, β1 =yk1, β2 = yk2, ..., βl = ykl for some xi’s and yi’s.Therefore we have that:xk1 + xk2 + ... + xkh − yk1 − yk2 − ... − ykl = 0 where n = h + lmust be true. However, we can invoke the Euler - Ekl hypothesis (1769, 1998) which states that“The equation xk1 + xk2 + ... + xkh − yk1 − yk2 − ... − ykl = 0, has no solution in positive integerswhen k > h + l” Ekl [1998].From the above, this allows us to conclude that there exists nop(x) = xn + an−2xn−2 + ...+ a1x± a0 where a1a0 ̸= 0, gcd(a1, a0) = 1, a0 = ck and k > n for whichQ is a splitting ﬁeld.A “weak conjecture” we can make is: “The equation xk2 + ... + xkh − yk1 − yk2 − ... − ykl = 0, wherex1, ..., xh, y1, ..., yl are co-prime in pairs, has no solution in positive integers when k > h + l”, for\n",
            "On the $C^1$ regularity of solutions to divergence form elliptic systems with Dini-continuous coefficients\n",
            "arXiv:1605.00535v1  [math.AP]  2 May 2016On the C1 regularity of solutions to divergence form ellipticsystems with Dini-continuous coeﬃcientsYanYan Li∗Department of MathematicsRutgers University110 Frelinghuysen Rd.Piscataway, NJ 08854-8019Dedicated to Haim Brezis with friendship and admirationAbstractWe prove C1 regularity of solutions to divergence form elliptic systems withDini-continuous coeﬃcients.This note addresses a question raised to the author by Haim Brezis, in connectionwith his solution of a conjecture of Serrin concerning divergence form second order ellipticequations (see [1] and [2]). If the coeﬃcients of the equations (or systems) are H¨oldercontinuous, then H1 solutions are known to have H¨older continuous ﬁrst derivatives. Thequestion is what minimal regularity assumption of the coeﬃcients would guarantee C1regularity of all H1 solutions. See [3] for answers to some other related questions of Haim.Consider the elliptic system for vector-valued functions u = (u1, · · · , uN),∂α(Aαβij (x)∂βuj) = 0,in B4,i = 1, 2, · · · , N,where B4 is the ball in Rn of 4 centered at the origin. The coeﬃcients {Aαβij } satisfy, forsome positive constants Λ and λ,|Aαβij (x)| ≤ Λ,x ∈ B4,(1)�B4Aαβij (x)∂αηi∂βηj ≥ λ�B4|∇η|2,∀ η ∈ H10(B4, RN),(2)∗Partially supported by an NSF grant.12and� 10r−1 ¯ϕ(r)dr < ∞,(3)where¯ϕ(r) := supx∈B3(�−Br(x)|A − A(x)|2)12.(4)Main Theorem. Suppose that {Aαβij } satisfy the above assumptions, and u ∈ H1(B4, RN)is a solution of the elliptic system. Then u is C1 in B1.Remark. For elliptic equations with coeﬃcients satisfying α−increasing Dini conditions,a proof of the C1 regularity of u can be found, in e.g. [[5], Theorem 5.1] as pointed out in[1] and [2].Question. If we replace ¯ϕ in (3) byˆϕ(r) := supx∈B3(�−Br(x)|A − ABr(x)|2)12,(5)with ABr(x) :=�−Br(x)A, does the conclusion of the Main Theorem still hold?Let Br(x) ⊂ Rn denote the ball of radius r and centered at x. We often write Br forBr(0), and rB1 for Br. Consider elliptic systems∂α(Aαβij (x)∂βuj) = hi + ∂βf βi ,in B4,i = 1, · · · , N,(6)where α, β are summed from 1 to n, while i, j are summed from 1 to N. The coeﬃcients{Aαβij }, often denoted by A, satisfy, for some positive constants Λ and λ, (1), (2) and (3),with ¯ϕ given by (4).Theorem 1.1 For B4 ⊂ Rn, n ≥ 1, let A, Λ, λ, ϕ be as above, {hi}, {f βi } ∈ Cα(B4) forsome α > 0, and let u ∈ H1(B4, RN), N ≥ 1, be a solution of (6). Then u ∈ C1(B1).Moreover, the modulus of continuity of ∇u in B1 can be controlled in terms of ¯ϕ, n, N,Λ, λ, α, ∥h∥Cα(B2) and [f]Cα(B2).Remark 1.1 Assumption (3) is weaker than A being Dini-continuous.Remark 1.2 The conclusion of Theorem 1.1 still holds (the dependence on α, ∥h∥Cα(B2)and [f]Cα(B2) is changed accordingly) if {hi} ∈ Lp(B4) for some p > n, and f satisﬁes� 10r−1 ¯ψ(r)dr < ∞,where ¯ψ(r) := supx∈B3(�−Br(x)|f − f(x)|2)12.Remark 1.3 This note was written in 2008. It was intended to be published after havingan answer to the question raised above.3Theorem 1.1 follows from the following two propositions.Proposition 1.1 For B4 ⊂ Rn, n ≥ 1, let Λ, λ, N be as above, and let A satisfy (1), (2),and(�−Br|A − A(0)|2)12 ≤ ϕ(r),0 < r < 1,(7)for some non-negative function ϕ on (0, 1) satisfying, for some µ > 1,maxr/2≤s≤2r ϕ(s) ≤ µϕ(r),� 10r−1ϕ(r)dr < ∞.(8)Assume that h, f ∈ Cα(B4) for some α > 0, and u ∈ H1(B4, RN) is a solution of (6).Then there exist a ∈ R and b ∈ Rn such that�−Br|u(x) − [a + b · x]|dx ≤ rδ(r)[∥u∥L2(B2) + ∥h∥Cα(B2) + [f]Cα(B2)],∀ 0 < r < 1, (9)where δ(r), depending only on ϕ, n, λ, Λ, N, µ, α, satisﬁes limr→0 δ(r) = 0.Proposition 1.2 Let u be a Lebesgue integrable function on B1 ⊂ Rn, n ≥ 1, and let δ(r)be a monotonically increasing positive function deﬁned on (0, 1) satisfying limr→0 δ(r) = 0.Assume that for every ¯x ∈ B1/4, there exist a(¯x) ∈ R, b(¯x) ∈ Rn such that�−Br(¯x)|u(x) − [a(¯x) + b(¯x) · (x − ¯x)]|dx\n",
            "Current status and near future plans for T2K\n",
            "SNSN-323-63November 3, 2021Current status and near future plans for T2KHelen Mary O’Keeffe1Physics DepartmentLancaster University, Lancaster, LA1 4YB, UKPRESENTED ATNuPhys 2015: Prospects in Neutrino PhysicsLondon, UK, December 16-18, 2015.1On behalf of the T2K collaboration.arXiv:1605.00821v1  [hep-ex]  3 May 20161IntroductionThe Tokai to Kamioka (T2K) experiment is a long-baseline neutrino oscillation ex-periment located in Japan [1]. An intense, almost pure beam of νµ is produced atthe J-PARC facility in Tokai-mura, by colliding 30 GeV protons with a stationarygraphite target. This produces a beam of secondary hadrons, mainly pions and kaons,from which pions are selected using a series of three magnetic horns. The selectedpions decay in a 96 m long decay volume. Depending on the polarity of the horn cur-rent, π+ or π− can be chosen to produce a νµ or νµ beam respectively. The neutrinobeam is directed 2.5◦ away from the axis between the target and the far detector295 km away. This oﬀ-axis technique produces a narrow band beam with a peak en-ergy around 0.6 GeV. This corresponds to the energy of the ﬁrst νµ → νe oscillationmaximum for a baseline of 295 km.The near detector complex, located approximately 280 m from the target, con-sists of an on-axis Interactive Neutrino GRID (INGRID) detector and an oﬀ-axisnear detector (ND280). The primary purpose of the INGRID detector is to measurethe direction, stability and ﬂux of the on-axis beam. The ND280 detector is 2.5◦oﬀ-axis and comprises of ﬁve sub-detectors, namely a π0 detector, two active ﬁnegrained detectors, three gaseous argon time projection chambers, an electromagneticcalorimeter and a side muon range detector. These sub-detectors are located insidea magnet, which provides a 0.2 T ﬁeld for charge identiﬁcation. The ND280 detec-tor is used for measurements of interaction cross-sections and the neutrino ﬂux, inparticular measurement of the intrinsic electron (anti)neutrino content of the beam.The far detector is the Super-Kamiokande water Cherenkov detector, located 295km away from the neutrino production point [9]. Super-Kamiokande is divided intoan inner and outer detector. The inner detector has a 22.5 kton water ﬁducial volumesurrounded by 11,129 photomultiplier tubes (PMTs).A 2 m wide outer detectorsurrounds the inner detector and PMTs. In the water, neutrinos interact to producetheir corresponding charged lepton partner which, if suﬃciently energetic, produceCherenkov light in the water.Good separation between νe and νµ candidates isachieved via a particle identiﬁcation variable, with a probability of misidentifying aµ as an e of < 1%.T2K was optimised to perform a precision measurement of θ23 and ∆m232 via νµdisappearance and to search for the mixing angle θ13 via νe appearance in the fardetector. Having conﬁrmed the appearance of νe in a νµ beam in 2013 [3], T2K hasbeen taking data in anti-neutrino mode. To June 2015, ∼ 7.0×1020 POT in neutrinomode and ∼ 4.0 × 1020 POT in anti-neutrino mode have been taken.12Recent results from T2KIn neutrino mode, the T2K experiment has measured θ13 via νe appearance in a νµbeam [3] and also θ23 via νµ disappearance [4]. Approximately 1% of the initial νµbeam is νe, which is the most signiﬁcant background for the νe appearance measure-ment. This intrinsic νe content and other backgrounds e.g. misidentiﬁed π0 eventsat Super-Kamiokande, result in an expected background of 4.64 ± 0.53 electron-likeevents in the far detector. With the full data set of 6.57 × 1020 POT, a total of 28electron-like candidates were observed, a signiﬁcance of 7.3σ. This was the world ﬁrstmeasurement of electron neutrino appearance in a muon neutrino beam [3].In the νµ disappearance search, a clear deﬁcit in the number of muon-like eventswas observed at Super-Kamiokande. For the full neutrino data-set of 6.57 × 1020POT, 120 νµ candidates were observed, signiﬁcantly fewer than the 446 ± 22.5 ex-p\n"
          ]
        }
      ]
    },
    {
      "cell_type": "code",
      "source": [
        "# docs"
      ],
      "metadata": {
        "id": "SB2BYlwoeXiH"
      },
      "execution_count": 11,
      "outputs": []
    },
    {
      "cell_type": "code",
      "source": [
        "arxiv_df['abst'][0]"
      ],
      "metadata": {
        "id": "t8F0mpMdVgeg",
        "outputId": "e6a396e3-7721-40ad-a50b-1c2806c7fbdf",
        "colab": {
          "base_uri": "https://localhost:8080/",
          "height": 125
        }
      },
      "execution_count": 12,
      "outputs": [
        {
          "output_type": "execute_result",
          "data": {
            "text/plain": [
              "'arXiv:1605.00193v1  [math.GR]  1 May 2016On the number of cyclic subgroups in ﬁnite groupsWei ZhouSchool of Mathematics and Statistics,Southwest University, Chongqing 400715, P. R. CHINAzh great@swu.edu.cnAbstractWe study the number of cylic subgroups in ﬁnite groups and get that G has |G|−3cyclic subgroups if and only if G ∼= D10 or Q8.1IntroductionLet G be a ﬁnite group and C(G) be the poset of cyclic subgroups of G. Sometimes C(G)can decide the structure of G. For example, G is an elementary abelian 2-group if andonly if |C(G)| = |G|. Tˇarnˇauceanu [3, 4] classiﬁed the groups G such that |G|−|C(G)| = 1or 2.In this note, we shall continue this study by describing the ﬁnite groups G such that|C(G)| = |G| − 3.We prove that there are just two such groups: D10 and Q8.For any ﬁnite group G, denote by πe(G) the set of all element orders of G, and donote byπ(G) the set of all prime divisors of |G|. For convenience, let πc(G) = πe(G)−π(G)−{1}.For any i ∈ πe(G), denote by Ci(G) the set of all cylic subgroups of order i in G, anddenote ci(G) = |Ci(G)| (ci for short).0Support by National Natural Science Foundation of China (Grant No. 11471266).AMS Subject Classiﬁcation: 20D15, 20D25Key words and phrases: ﬁnite groups, cyclic subgroups, 2-groups122The main resultLemma 2.1 Let |G| = pa11 · · · parrwith p1 < · · · < pr. If r ≥ 3, then |G| − c(G) > pr.Proof: For any ﬁnite group G, we know that|G| =�k∈πe(G)ck(φ(k)),|C(G)| =�k∈πe(G)ck,where φ is the Eucler function. Hence|G| − |C(G)| =�k∈πe(G)ck(φ(k) − 1).(2.1)Let G be a group such that |G| − |C(G)| ≤ pr. By (2.1), we see that�k∈πe(G)ck(φ(k) − 1) ≤ pr.By Cauch theorem, cpi ≥ 1 for all i ≤ r. Hence we get thatcp1(p1 − 2) + cp2(p2 − 2) + · · · + cpr(pr − 2) +�s∈πc(G)cs(φ(s) − 1) ≤ pr.Since r ≥ 3, we get that pr ≥ 5. Thus cpr = 1 andcp1(p1 − 2) + cp2(p2 − 2) + · · · + cpr−1(pr−1 − 2) +�s∈πc(G)cs(φ(s) − 1) ≤ 2.So we get r = 3, p2 = 3 and p1 = 2. It follows thatc3 +�s∈πc(G)cs(φ(s) − 1) ≤ 2.If c3 = 2, then πc(G) = ∅. Let X1, X2 be the two cylic subgroups of order 3. Consid-ering the action of G on {X1, X2}, we see that X1 is normalized by a Sylow pr-subgroup,which implies 3pr ∈ φc(G), a contradiction.Hence c3 = 1.Similarly, we get that3pr ∈ πc(G).But c3pr(φ(3pr) − 1) ≥ 2(pr − 1) − 1 ≥ 2(5 − 1) − 1 = 7, a contradic-tion.✷3Lemma 2.2 Let |G| = paqb, where p, q are primes such that p < q. Then |G| − c(G) > qif G ̸∼= D2q, C6, D12, C6 or S3, and |D2q − |C(D2q)| = q − 2, |C6| − |C(C6)| = 2,|D12| − |C(D12)| = 2. |C6| − |C(C6)| = 2 and |S3| − |C(S3)| = 1.Proof: Let G be the group such that |G| − c(G) ≤ q. By (2.1),cp(p − 2) + cq(q − 2) +�s∈πc(G)cs(φ(s) − 1) ≤ q.(2.2)i) q ≥ 5. Then cq = 1 andcp(p − 2) +�s∈πc(G)cs(φ(s) − 1) ≤ 2.If p ̸= 2, then πc(G) = ∅, and cp(p − 2) ≤ 2. It follows that p = 3 and c3 ≤ 2. Butwe can ﬁnd an element of order 3q, a contradiction. So we get that p = 2. We see thatπe(G) = {1, 2, q} or {1, 2, 22, q}. Thus G has only one Sylow q-subgroup Q isomorphic toCq.If πe(G) = {1, 2, 4, q}, then c4 ≤ 2. Thus Q normalizes a cyclic subgroup of order4. This implies that 4q ∈ πc(G), a contradiction. Hence πe(G) = {1, 2, q}. If a ≥ 2, byconsidering the conjugate action of a Sylow 2-group on Q, we can ﬁnd an elmement oforder 2q, a contradiction. Hence |G| = 2q, and G = ⟨u, v|uq = 1, v2 = 1, uv = u−1⟩ ∼= D2q.In this case, |G| − |C(G)| = q − 2.ii) q = 3 and p = 2. Now (2.2) becomes thatc3 +�s∈πc(G)cs(φ(s) − 1) ≤ 3.It follows that c3 ≤ 3 and πe(G) ⊆ {1, 2, 3, 4, 6}.If πe(G) = {1, 2, 3, 4, 6}, then c3 = c4 = c6 = 1. And we get 12 ∈ πe(G), a contradic-tion. If πe(G) = {1, 2, 3, 4}, then c4 ≤ 2. We can get that 12 ∈ πe(G) if c4 = 1. Hencec4 = 2. Therefore, a Sylow 3-group will normalizes a cyclic subgroup of order 4, and weget that 12 ∈ πe(G), a contradiction.If πe(G) = {1, 2, 3, 6}, then c3 + c6 ≤ 3. Then c3 = 1 or c6 = 1. Thus we can get anormal cyclic subgroup X = ⟨x⟩ of order 3. Thus |G : CG'"
            ],
            "application/vnd.google.colaboratory.intrinsic+json": {
              "type": "string"
            }
          },
          "metadata": {},
          "execution_count": 12
        }
      ]
    },
    {
      "cell_type": "code",
      "source": [
        "db = FAISS.from_documents(docs, embeddings)"
      ],
      "metadata": {
        "id": "N7t6zW3rT0B_"
      },
      "execution_count": 10,
      "outputs": []
    },
    {
      "cell_type": "code",
      "source": [
        "query = \"the Roots of Characteristic Equations\"\n",
        "docs = db.similarity_search(query, k =1)"
      ],
      "metadata": {
        "id": "tyODIxdmT5nt"
      },
      "execution_count": 17,
      "outputs": []
    },
    {
      "cell_type": "code",
      "source": [
        "docs[0].page_content"
      ],
      "metadata": {
        "id": "zLRoG4HlfQFx",
        "outputId": "d8720cad-c7ab-401a-ecbd-f2686a4056fe",
        "colab": {
          "base_uri": "https://localhost:8080/",
          "height": 125
        }
      },
      "execution_count": 20,
      "outputs": [
        {
          "output_type": "execute_result",
          "data": {
            "text/plain": [
              "'arXiv:1605.00488v1  [math.DS]  2 May 2016\\nOn the Roots of Characteristic Equations of Delay\\nDiﬀerential Systems\\nJia-Yuan Dai\\nAbstract\\nWe prove that characteristic equations of certain types of delay diﬀerential\\nsystems, under some mild conditions on their coeﬃcients, can possess inﬁnitely\\nmany complex roots.\\nA. Prelimilary\\nOur motivation comes from the linear (single, complex, constant) time-delay com-\\nplex diﬀerential system:\\n˙x(t) = Ax(t) + Bx(t − τ),\\nx(t) ∈ Cn\\n(1)\\nwhere A and B are n-by-n matrices over C and τ ∈ C \\\\ {0} is a complex time-\\ndelay. The stablity of the zero solution is determined to the real parts of roots of\\nthe characteristic equation:\\nf(λ) := det\\n�\\nλid − A − e−τλB\\n�\\n= 0,\\n(2)\\nafter the exponential ansatz x(t) = eλtx0 is applied. We are interested in the question\\nwhether there exist inﬁnitely many complex roots of f.\\nOur main observations are the following:\\n(i) f is an entire function;\\n(ii) for any ǫ > 0, the growth rate of f is bounded by e|λ|1+ǫ for all λ ∈ C with |λ|\\nsuﬃciently large.\\nWe note that (ii) follows directly by using triangle inequality.\\nDeﬁnition. Let f be an entire function, the order of f, denoted by ord(f), is the\\ninﬁmum of α > 0 such that there exists R > 0 such that |f(λ)| ≤ e|λ|α holds for all\\nλ ∈ C with |λ| ≥ R.\\nHence the observation (ii) indicates that ord(f) ≤ 1. Now ﬁniteness of ord(f)\\nreminds us a dichotomy.\\nLemma 1 (Theorem 16.13 in [BaNe10]). Let f be an entire function and of ﬁnite\\norder, then\\n(i) either f(λ) = 0 possesses inﬁnitely many roots in C,\\n1\\n(ii) or there exist complex polynomial g(λ) and h(λ) such that h(0) = 0 and\\nf(λ) = g(λ)eh(λ)\\nholds for all λ ∈ C.\\nFurthermore, in the case (ii), we have deg(h) = ord(f).\\nThus, our strategy is to give a indirect proof: according to Lemma 1, if f(λ) = 0\\npossesses at most ﬁnitely many roots in C, then ord(f) ≤ 1 implies\\nf(λ) = g(λ)ecλ\\nholds for all λ ∈ C where g(λ) is a complex polynomial and c ∈ C. Then the main\\ntask is to seek conditions on the coeﬃcients A and B to reach a contradiction.\\nB. Single Complex Constant Delay\\nIn the following Proposition we apply our strategy carefully.\\nProposition 1. Suppose tr(B) ̸= 0, then for each τ ∈ C \\\\ {0}, the equation\\nf(λ) := det\\n�\\nλid − A − e−τλB\\n�\\n= 0\\n(3)\\npossesses inﬁnitely many roots in C.\\nProof. Setting λ �→ τλ, without loss of generality we consider τ = 1. The equation\\n(3) can be expressed as\\nf(λ) := λn + a1(λ)e−λ + ... + an(λ)e−nλ,\\n(4)\\nwhere\\na1(λ) = −(tr(B))λn−1 + lower order terms\\nis a nonzero polynomial since we assume tr(B) ̸= 0.\\nObviously all other aj(λ)\\nfor j ∈ {2, ..., n} are (maybe identically zero) complex polynomials. Since a1(λ) is\\nnonzero, there exist k ∈ N with 1 ≤ k ≤ n such that ak(λ) is the last (with respect\\nto the order as real numbers in the exponential exponents) nonzero polynomial, i.e.\\nf(λ) = λn + a1(λ)e−λ + ... + ak(λ)e−kλ.\\n(5)\\nObviously f is an entire function. We easily see that ord(f) ≤ 1, because for each\\nǫ > 0, using triangle inequality, the estimates\\n|f(λ)| ≤ (k + 1) max\\nj=1,...,k{1, |aj(λ)|}ek|λ| ≤ e|λ|1+ǫ\\n(6)\\nhold as |λ| is suﬃciently large.\\n2\\nContradiction Part:\\nSuppose the contrary that f(λ) = 0 possesses at most\\nﬁnitely many roots in C. Since f is entire and ord(f) ≤ 1, by Lemma 1,\\nf(λ) = g(λ)ecλ\\nholds for all λ ∈ C where g(λ) is a complex polynomial and c ∈ C. We claim that\\nRe(c) = −k,\\nIm(c) = 0.\\n(7)\\nLet zlλl (0 ≤ l ≤ n) be the leading term of ak(λ). Multiplying (5) by ekλ/λl\\nyields\\ng(λ)\\nλl eiIm(c)λe(Re(c)+k)λ = λnekλ + a1(λ)e(k−1)λ + ...ak−1(λ)eλ\\nλl\\n+ zl + ˜ak(λ)\\nλl\\n(8)\\nwhere deg(˜ak) < l.\\nTaking λ ∈ R and λ → −∞, since g, all aj, and ˜ak are\\npolynomials, the right-hand side of (8) converges to zl, while the left-hand side of\\n(8) diverges to inﬁnity (resp. to zero) if Re(c) + k < 0 (resp. Re(c) + k > 0). Thus\\nRe(c) + k = 0. We now have\\ng(λ)\\nλl eiIm(c)Re(c)e−Im(c)Im(λ) = λnekλ + a1(λ)e(k−1)λ + ...ak−1(λ)eλ\\nλl\\n+ zl + ˜ak(λ)\\nλl\\n. (9)\\nAgain we play the same trick by taking Re(λ) → −∞ and Im(λ) → ∞ (or −∞, it\\ndoes not matter), we see Im(c) = 0. As a result, (5) '"
            ],
            "application/vnd.google.colaboratory.intrinsic+json": {
              "type": "string"
            }
          },
          "metadata": {},
          "execution_count": 20
        }
      ]
    },
    {
      "cell_type": "code",
      "source": [
        "docs[0].metadata"
      ],
      "metadata": {
        "id": "iFbXr7_jfRFT",
        "outputId": "823065ce-48c7-4c20-8bc6-685759b3759e",
        "colab": {
          "base_uri": "https://localhost:8080/"
        }
      },
      "execution_count": 22,
      "outputs": [
        {
          "output_type": "execute_result",
          "data": {
            "text/plain": [
              "{'Published': '2016-05-02',\n",
              " 'Title': 'On the Roots of Characteristic Equations of Delay Differential Systems',\n",
              " 'Authors': 'Jia-Yuan Dai',\n",
              " 'Summary': 'We prove that characteristic equations of certain types of delay differential\\nsystems, under some mild conditions on their coefficients, can possess\\ninfinitely many complex roots.'}"
            ]
          },
          "metadata": {},
          "execution_count": 22
        }
      ]
    },
    {
      "cell_type": "code",
      "source": [],
      "metadata": {
        "id": "NfdGeLW8f2vY"
      },
      "execution_count": null,
      "outputs": []
    }
  ]
}