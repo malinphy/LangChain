{
  "nbformat": 4,
  "nbformat_minor": 0,
  "metadata": {
    "colab": {
      "provenance": [],
      "include_colab_link": true
    },
    "kernelspec": {
      "display_name": "Python 3",
      "name": "python3"
    },
    "gpuClass": "standard"
  },
  "cells": [
    {
      "cell_type": "markdown",
      "metadata": {
        "id": "view-in-github",
        "colab_type": "text"
      },
      "source": [
        "<a href=\"https://colab.research.google.com/github/malinphy/LangChain/blob/main/LC_alpaca_flan.ipynb\" target=\"_parent\"><img src=\"https://colab.research.google.com/assets/colab-badge.svg\" alt=\"Open In Colab\"/></a>"
      ]
    },
    {
      "cell_type": "code",
      "source": [
        "!pip install -Uqqq pip --progress-bar off\n",
        "!pip install -qqq langchain==0.0.148 --progress-bar off\n",
        "!pip install -qqq openai==0.27.4 --progress-bar off\n",
        "!pip install -qqq tiktoken==0.3.3 --progress-bar off\n",
        "!pip install -qqq watermark==2.3.1 --progress-bar off\n",
        "!pip install -qqq huggingface-hub==0.14.0 --progress-bar off\n",
        "!pip install -qqq sentence_transformers==2.2.2 --progress-bar off"
      ],
      "metadata": {
        "id": "RekAtcJAocME",
        "outputId": "76414925-e9e0-44da-ed92-b3837bddc855",
        "colab": {
          "base_uri": "https://localhost:8080/"
        }
      },
      "execution_count": 1,
      "outputs": [
        {
          "output_type": "stream",
          "name": "stdout",
          "text": [
            "  Preparing metadata (setup.py) ... \u001b[?25l\u001b[?25hdone\n",
            "  Building wheel for sentence_transformers (setup.py) ... \u001b[?25l\u001b[?25hdone\n"
          ]
        }
      ]
    },
    {
      "cell_type": "code",
      "source": [
        "!pip install -qqq openai --progress-bar off"
      ],
      "metadata": {
        "id": "7iwBqO3moohX"
      },
      "execution_count": 2,
      "outputs": []
    },
    {
      "cell_type": "code",
      "source": [
        "import os\n",
        "import textwrap\n",
        "from getpass import getpass\n",
        "\n",
        "import huggingface_hub\n",
        "import langchain\n",
        "import openai\n",
        "from langchain import HuggingFaceHub, LLMChain, PromptTemplate\n",
        "# from langchain.callbacks.base import CallbackManager\n",
        "from langchain.callbacks.streaming_stdout import StreamingStdOutCallbackHandler\n",
        "from langchain.chains import RetrievalQA\n",
        "from langchain.chat_models import ChatOpenAI\n",
        "from langchain.embeddings import HuggingFaceEmbeddings, OpenAIEmbeddings\n",
        "from langchain.llms import OpenAI\n",
        "from langchain.prompts.chat import (\n",
        "    AIMessagePromptTemplate,\n",
        "    ChatPromptTemplate,\n",
        "    HumanMessagePromptTemplate,\n",
        "    SystemMessagePromptTemplate,\n",
        ")\n",
        "from langchain.schema import AIMessage, HumanMessage, SystemMessage"
      ],
      "metadata": {
        "id": "W3br2xuEocJz"
      },
      "execution_count": 3,
      "outputs": []
    },
    {
      "cell_type": "code",
      "source": [
        "os.environ[\"HUGGINGFACEHUB_API_TOKEN\"] "
      ],
      "metadata": {
        "id": "wwG2KPgtocHk"
      },
      "execution_count": 4,
      "outputs": []
    },
    {
      "cell_type": "code",
      "source": [
        "\n",
        "\n",
        "template = \"\"\"Question: {question}\n",
        "\n",
        "Answer:\"\"\"\n",
        "\n",
        "prompt = PromptTemplate(template=template, input_variables=[\"question\"])\n",
        "\n",
        "question = (\n",
        "    \"What is the relationship between Jim and Dwight from the TV show The Office?\"\n",
        ")\n",
        "\n",
        "print(prompt.format(question=question))\n",
        "     \n"
      ],
      "metadata": {
        "id": "p10irUo1pDYW",
        "outputId": "dbb95af6-2c4d-4864-eb4f-61e6108d7a84",
        "colab": {
          "base_uri": "https://localhost:8080/"
        }
      },
      "execution_count": 5,
      "outputs": [
        {
          "output_type": "stream",
          "name": "stdout",
          "text": [
            "Question: What is the relationship between Jim and Dwight from the TV show The Office?\n",
            "\n",
            "Answer:\n"
          ]
        }
      ]
    },
    {
      "cell_type": "code",
      "source": [
        "repo_id = \"declare-lab/flan-alpaca-base\"\n",
        "flan = HuggingFaceHub(\n",
        "    repo_id=repo_id, model_kwargs={\"temperature\": 0, \"max_length\": 64}\n",
        ")\n",
        "\n",
        "response = flan(prompt.format(question=question))\n",
        "response"
      ],
      "metadata": {
        "id": "AZ_Xs2b9pJHm",
        "outputId": "567e432d-4f80-4fd6-b0d1-30ae30a8b65b",
        "colab": {
          "base_uri": "https://localhost:8080/",
          "height": 53
        }
      },
      "execution_count": 6,
      "outputs": [
        {
          "output_type": "execute_result",
          "data": {
            "text/plain": [
              "'Jim and Dwight from The Office are two of the most successful actors in the show. They are both renowned for their roles in the show, and they have a strong bond that is evident in their relationship.'"
            ],
            "application/vnd.google.colaboratory.intrinsic+json": {
              "type": "string"
            }
          },
          "metadata": {},
          "execution_count": 6
        }
      ]
    },
    {
      "cell_type": "code",
      "source": [],
      "metadata": {
        "id": "-p1iB2RfpWrr"
      },
      "execution_count": 6,
      "outputs": []
    }
  ]
}