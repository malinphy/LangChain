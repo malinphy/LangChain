{
  "nbformat": 4,
  "nbformat_minor": 0,
  "metadata": {
    "colab": {
      "provenance": [],
      "gpuType": "T4",
      "include_colab_link": true
    },
    "kernelspec": {
      "display_name": "Python 3",
      "name": "python3"
    }
  },
  "cells": [
    {
      "cell_type": "markdown",
      "metadata": {
        "id": "view-in-github",
        "colab_type": "text"
      },
      "source": [
        "<a href=\"https://colab.research.google.com/github/malinphy/LangChain/blob/main/SciBERT_demo.ipynb\" target=\"_parent\"><img src=\"https://colab.research.google.com/assets/colab-badge.svg\" alt=\"Open In Colab\"/></a>"
      ]
    },
    {
      "cell_type": "code",
      "source": [
        "#https://gpt-index.readthedocs.io/en/latest/examples/query_engine/CustomRetrievers.html"
      ],
      "metadata": {
        "id": "rb_2ijcEOf_4"
      },
      "execution_count": null,
      "outputs": []
    },
    {
      "cell_type": "code",
      "source": [
        "from google.colab import drive\n",
        "drive.mount('/content/drive')"
      ],
      "metadata": {
        "id": "8pZk7okaGUqw",
        "outputId": "314f363f-8dfd-42d4-fdd5-2aa25e5a676c",
        "colab": {
          "base_uri": "https://localhost:8080/"
        }
      },
      "execution_count": null,
      "outputs": [
        {
          "output_type": "stream",
          "name": "stdout",
          "text": [
            "Drive already mounted at /content/drive; to attempt to forcibly remount, call drive.mount(\"/content/drive\", force_remount=True).\n"
          ]
        }
      ]
    },
    {
      "cell_type": "code",
      "source": [
        "# ! pip install -q langchain transformers sentence_transformers llama-index\n",
        "!pip install langchain -q\n",
        "!pip install llama-index -q\n",
        "!pip install openai -q"
      ],
      "metadata": {
        "id": "mpKfYazTCRKR",
        "outputId": "94530953-4b25-4c1d-b109-c4d81f400112",
        "colab": {
          "base_uri": "https://localhost:8080/"
        }
      },
      "execution_count": null,
      "outputs": [
        {
          "output_type": "stream",
          "name": "stdout",
          "text": [
            "Looking in indexes: https://pypi.org/simple, https://us-python.pkg.dev/colab-wheels/public/simple/\n",
            "Requirement already satisfied: openai in /usr/local/lib/python3.10/dist-packages (0.27.8)\n",
            "Requirement already satisfied: requests>=2.20 in /usr/local/lib/python3.10/dist-packages (from openai) (2.27.1)\n",
            "Requirement already satisfied: tqdm in /usr/local/lib/python3.10/dist-packages (from openai) (4.65.0)\n",
            "Requirement already satisfied: aiohttp in /usr/local/lib/python3.10/dist-packages (from openai) (3.8.4)\n",
            "Requirement already satisfied: urllib3<1.27,>=1.21.1 in /usr/local/lib/python3.10/dist-packages (from requests>=2.20->openai) (1.26.15)\n",
            "Requirement already satisfied: certifi>=2017.4.17 in /usr/local/lib/python3.10/dist-packages (from requests>=2.20->openai) (2022.12.7)\n",
            "Requirement already satisfied: charset-normalizer~=2.0.0 in /usr/local/lib/python3.10/dist-packages (from requests>=2.20->openai) (2.0.12)\n",
            "Requirement already satisfied: idna<4,>=2.5 in /usr/local/lib/python3.10/dist-packages (from requests>=2.20->openai) (3.4)\n",
            "Requirement already satisfied: attrs>=17.3.0 in /usr/local/lib/python3.10/dist-packages (from aiohttp->openai) (23.1.0)\n",
            "Requirement already satisfied: multidict<7.0,>=4.5 in /usr/local/lib/python3.10/dist-packages (from aiohttp->openai) (6.0.4)\n",
            "Requirement already satisfied: async-timeout<5.0,>=4.0.0a3 in /usr/local/lib/python3.10/dist-packages (from aiohttp->openai) (4.0.2)\n",
            "Requirement already satisfied: yarl<2.0,>=1.0 in /usr/local/lib/python3.10/dist-packages (from aiohttp->openai) (1.9.2)\n",
            "Requirement already satisfied: frozenlist>=1.1.1 in /usr/local/lib/python3.10/dist-packages (from aiohttp->openai) (1.3.3)\n",
            "Requirement already satisfied: aiosignal>=1.1.2 in /usr/local/lib/python3.10/dist-packages (from aiohttp->openai) (1.3.1)\n"
          ]
        }
      ]
    },
    {
      "cell_type": "code",
      "source": [
        "import logging\n",
        "import sys\n",
        "\n",
        "logging.basicConfig(stream=sys.stdout, level=logging.INFO)\n",
        "logging.getLogger().addHandler(logging.StreamHandler(stream=sys.stdout))\n",
        "\n",
        "from llama_index import (\n",
        "    VectorStoreIndex,\n",
        "    SimpleKeywordTableIndex,\n",
        "    SimpleDirectoryReader,\n",
        "    ServiceContext,\n",
        "    StorageContext\n",
        ")\n",
        "from IPython.display import Markdown, display"
      ],
      "metadata": {
        "id": "hKbFZgI2Do5V"
      },
      "execution_count": null,
      "outputs": []
    },
    {
      "cell_type": "code",
      "source": [
        "import os\n",
        "import openai\n",
        "os.listdir('drive/MyDrive/transfer/p_graham_essays')\n",
        "os.environ[\"OPENAI_API_KEY\"] =\n",
        "\n",
        "openai.api_key ="
      ],
      "metadata": {
        "id": "uPVr-vBUF_cw"
      },
      "execution_count": null,
      "outputs": []
    },
    {
      "cell_type": "code",
      "source": [
        "documents = SimpleDirectoryReader('drive/MyDrive/transfer/p_graham_essays/parcali').load_data()"
      ],
      "metadata": {
        "id": "t1c6pN98GVi0"
      },
      "execution_count": null,
      "outputs": []
    },
    {
      "cell_type": "code",
      "source": [
        "len(documents)"
      ],
      "metadata": {
        "id": "xBZeZtg0GsFV",
        "outputId": "dce99007-4f76-4d46-bc4b-170d3829d774",
        "colab": {
          "base_uri": "https://localhost:8080/"
        }
      },
      "execution_count": null,
      "outputs": [
        {
          "output_type": "execute_result",
          "data": {
            "text/plain": [
              "3"
            ]
          },
          "metadata": {},
          "execution_count": 6
        }
      ]
    },
    {
      "cell_type": "code",
      "source": [
        "# initialize service context (set chunk size)\n",
        "service_context = ServiceContext.from_defaults(chunk_size=500)\n",
        "node_parser = service_context.node_parser\n",
        "\n",
        "nodes = node_parser.get_nodes_from_documents(documents)"
      ],
      "metadata": {
        "id": "vOqc-UxPGtzx"
      },
      "execution_count": null,
      "outputs": []
    },
    {
      "cell_type": "code",
      "source": [
        "len(nodes)"
      ],
      "metadata": {
        "id": "5-9D59seG2EI",
        "outputId": "b90250d0-e780-4c23-e711-e2d9d3648edd",
        "colab": {
          "base_uri": "https://localhost:8080/"
        }
      },
      "execution_count": null,
      "outputs": [
        {
          "output_type": "execute_result",
          "data": {
            "text/plain": [
              "7"
            ]
          },
          "metadata": {},
          "execution_count": 8
        }
      ]
    },
    {
      "cell_type": "code",
      "source": [],
      "metadata": {
        "id": "eMGPCbwnK6kH"
      },
      "execution_count": null,
      "outputs": []
    },
    {
      "cell_type": "code",
      "source": [
        "storage_context = StorageContext.from_defaults()\n",
        "storage_context.docstore.add_documents(nodes)"
      ],
      "metadata": {
        "id": "PRWQcbpWHORr"
      },
      "execution_count": null,
      "outputs": []
    },
    {
      "cell_type": "code",
      "source": [
        "vector_index = VectorStoreIndex(nodes, storage_context=storage_context)\n",
        "keyword_index = SimpleKeywordTableIndex(nodes, storage_context=storage_context)"
      ],
      "metadata": {
        "id": "xgyg350OHYUq",
        "outputId": "3083ed4e-4f1e-49a6-9a58-a105af15851e",
        "colab": {
          "base_uri": "https://localhost:8080/"
        }
      },
      "execution_count": null,
      "outputs": [
        {
          "output_type": "stream",
          "name": "stderr",
          "text": [
            "[nltk_data] Downloading package stopwords to /root/nltk_data...\n",
            "[nltk_data]   Unzipping corpora/stopwords.zip.\n"
          ]
        }
      ]
    },
    {
      "cell_type": "code",
      "source": [
        "# import QueryBundle\n",
        "from llama_index import QueryBundle\n",
        "# import NodeWithScore\n",
        "from llama_index.data_structs import NodeWithScore\n",
        "# Retrievers\n",
        "from llama_index.retrievers import BaseRetriever, VectorIndexRetriever, KeywordTableSimpleRetriever\n",
        "from typing import List"
      ],
      "metadata": {
        "id": "MjHUDjpBJIS4"
      },
      "execution_count": null,
      "outputs": []
    },
    {
      "cell_type": "code",
      "source": [
        "vector_retriever = VectorIndexRetriever(index=vector_index, similarity_top_k=4)\n",
        "keyword_retriever = KeywordTableSimpleRetriever(index=keyword_index)"
      ],
      "metadata": {
        "id": "LboEW4QNHiD4"
      },
      "execution_count": null,
      "outputs": []
    },
    {
      "cell_type": "code",
      "source": [
        "from llama_index import ResponseSynthesizer\n",
        "from llama_index.query_engine import RetrieverQueryEngine"
      ],
      "metadata": {
        "id": "2ncrqeBJJRjH"
      },
      "execution_count": null,
      "outputs": []
    },
    {
      "cell_type": "code",
      "source": [
        "# define response synthesizer\n",
        "response_synthesizer = ResponseSynthesizer.from_args()\n",
        "\n",
        "# vector query engine\n",
        "vector_query_engine = RetrieverQueryEngine(\n",
        "    retriever=vector_retriever,\n",
        "    response_synthesizer=response_synthesizer,\n",
        ")\n",
        "# keyword query engine\n",
        "keyword_query_engine = RetrieverQueryEngine(\n",
        "    retriever=keyword_retriever,\n",
        "    response_synthesizer=response_synthesizer,\n",
        ")"
      ],
      "metadata": {
        "id": "fLUmZKfdJJdi"
      },
      "execution_count": null,
      "outputs": []
    },
    {
      "cell_type": "code",
      "source": [
        "response = vector_query_engine.query(\"What did the author do during his time at YC?\")"
      ],
      "metadata": {
        "id": "zkuWmylBJVxN"
      },
      "execution_count": null,
      "outputs": []
    },
    {
      "cell_type": "code",
      "source": [
        "print(response)"
      ],
      "metadata": {
        "id": "6HeKbZiBJZFq",
        "outputId": "498d52f8-c01c-4fe9-8407-c65aa8ffd361",
        "colab": {
          "base_uri": "https://localhost:8080/"
        }
      },
      "execution_count": null,
      "outputs": [
        {
          "output_type": "stream",
          "name": "stdout",
          "text": [
            "\n",
            "The author urged startups during YC to keep expenses low and to try to make it to ramen profitability before Demo Day.\n"
          ]
        }
      ]
    },
    {
      "cell_type": "code",
      "source": [
        "response.source_nodes[0]"
      ],
      "metadata": {
        "id": "ZqbOCwkaJczW",
        "outputId": "2a31fbc5-8732-404a-9049-020fc53094ab",
        "colab": {
          "base_uri": "https://localhost:8080/"
        }
      },
      "execution_count": null,
      "outputs": [
        {
          "output_type": "execute_result",
          "data": {
            "text/plain": [
              "NodeWithScore(node=Node(text='will be in a much stronger position if your collection of plans\\nincludes one for raising zero dollars&mdash;i.e. if you can make\\nit to profitability without raising any additional money.  Ideally\\nyou want to be able to say to investors \"We\\'ll succeed no matter\\nwhat, but raising money will help us do it faster.\"\\n\\nThere are many analogies between fundraising and dating, and this\\nis one of the strongest.  No one wants you if you seem desperate.\\nAnd the best way not to seem desperate is not to <i>be</i> desperate.\\nThat\\'s one reason we urge startups during YC to keep expenses low\\nand to try to make it to <a href=\"ramenprofitable.html\">ramen\\nprofitability</a> before Demo Day.  Though it sounds slightly\\nparadoxical, if you want to raise money, the best thing you can do\\nis get yourself to the point where you don\\'t need to.\\n\\nThere are almost two distinct modes of fundraising: one in which\\nfounders who need money knock on doors seeking it, knowing that\\notherwise the company will die or at the very least people will\\nhave to be fired, and one in which founders who don\\'t need money\\ntake some to grow faster than they could merely on their own revenues.\\nTo emphasize the distinction I\\'m going to name them: type A fundraising\\nis when you don\\'t need money, and type B fundraising is when you\\ndo.\\n\\nInexperienced founders read about famous startups doing what was\\ntype A fundraising, and decide they should raise money too, since\\nthat seems to be how startups work. Except when they raise money\\nthey don\\'t have a clear path to profitability and are thus doing\\ntype B fundraising.  And they are then surprised how difficult and\\nunpleasant it is.\\n\\nOf course not all startups can make it to ramen profitability in a\\nfew months.  And some that don\\'t still manage to have the upper\\nhand over investors, if they have some other advantage like\\nextraordinary growth numbers or', doc_id='f7fc44f8-3b11-4d27-9dff-cd7bb3c9913c', embedding=None, doc_hash='6ef18013851850e12f6faa27f6b014a32fb38ae6c970abf78a6023840a0d9895', extra_info=None, node_info={'start': 1728, 'end': 3596, '_node_type': <NodeType.TEXT: '1'>}, relationships={<DocumentRelationship.SOURCE: '1'>: '7a58c3f0-38e8-4eb3-a0ec-a5ffacf82586', <DocumentRelationship.PREVIOUS: '2'>: 'c4f41396-7f0c-4649-8866-5280de6e5562', <DocumentRelationship.NEXT: '3'>: '19e93717-274d-4d15-ab19-28d85e5a44b3'}), score=0.7531123099700648)"
            ]
          },
          "metadata": {},
          "execution_count": 31
        }
      ]
    },
    {
      "cell_type": "code",
      "source": [
        "documents[1728:3596]"
      ],
      "metadata": {
        "id": "l8eiQ6ynJ6Wl",
        "outputId": "bf3d35a4-e3d0-439a-8028-d41e815f5a02",
        "colab": {
          "base_uri": "https://localhost:8080/"
        }
      },
      "execution_count": null,
      "outputs": [
        {
          "output_type": "execute_result",
          "data": {
            "text/plain": [
              "[]"
            ]
          },
          "metadata": {},
          "execution_count": 33
        }
      ]
    },
    {
      "cell_type": "code",
      "source": [
        "documents[3].text[1728:3596]"
      ],
      "metadata": {
        "id": "O5nOp4-FM3Yx",
        "outputId": "57e25353-8d29-4d61-b433-ab603652496d",
        "colab": {
          "base_uri": "https://localhost:8080/",
          "height": 169
        }
      },
      "execution_count": null,
      "outputs": [
        {
          "output_type": "error",
          "ename": "IndexError",
          "evalue": "ignored",
          "traceback": [
            "\u001b[0;31m---------------------------------------------------------------------------\u001b[0m",
            "\u001b[0;31mIndexError\u001b[0m                                Traceback (most recent call last)",
            "\u001b[0;32m<ipython-input-41-c4fe8f79de86>\u001b[0m in \u001b[0;36m<cell line: 1>\u001b[0;34m()\u001b[0m\n\u001b[0;32m----> 1\u001b[0;31m \u001b[0mdocuments\u001b[0m\u001b[0;34m[\u001b[0m\u001b[0;36m3\u001b[0m\u001b[0;34m]\u001b[0m\u001b[0;34m.\u001b[0m\u001b[0mtext\u001b[0m\u001b[0;34m[\u001b[0m\u001b[0;36m1728\u001b[0m\u001b[0;34m:\u001b[0m\u001b[0;36m3596\u001b[0m\u001b[0;34m]\u001b[0m\u001b[0;34m\u001b[0m\u001b[0;34m\u001b[0m\u001b[0m\n\u001b[0m",
            "\u001b[0;31mIndexError\u001b[0m: list index out of range"
          ]
        }
      ]
    },
    {
      "cell_type": "code",
      "source": [],
      "metadata": {
        "id": "2XUuA-KWM8kn"
      },
      "execution_count": null,
      "outputs": []
    }
  ]
}